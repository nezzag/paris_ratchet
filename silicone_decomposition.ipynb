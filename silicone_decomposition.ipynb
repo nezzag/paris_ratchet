{
 "cells": [
  {
   "cell_type": "markdown",
   "metadata": {},
   "source": [
    "# Paris Ratchet - Decomposition\n",
    "This notebook uses the asymmetric decomposition method from Silicone to split an aggregate greenhouse gas emissions trajectory into CO2, CH4, N2O and F-Gases"
   ]
  },
  {
   "cell_type": "markdown",
   "metadata": {},
   "source": [
    "## Importing data and tools\n",
    "This part collects and cleans the data."
   ]
  },
  {
   "cell_type": "code",
   "execution_count": 1,
   "metadata": {},
   "outputs": [
    {
     "data": {
      "application/javascript": [
       "IPython.OutputArea.prototype._should_scroll = function(lines) { return false; }"
      ],
      "text/plain": [
       "<IPython.core.display.Javascript object>"
      ]
     },
     "metadata": {},
     "output_type": "display_data"
    }
   ],
   "source": [
    "import os.path\n",
    "\n",
    "import pandas as pd\n",
    "import pyam\n",
    "import matplotlib.pyplot as plt\n",
    "import numpy as np\n",
    "import warnings\n",
    "\n",
    "from silicone.utils import (\n",
    "    download_or_load_sr15,\n",
    "    convert_units_to_MtCO2_equiv,\n",
    "    return_cases_which_consistently_split,\n",
    ")\n",
    "import silicone.multiple_infillers as mi\n",
    "import silicone.database_crunchers as cr"
   ]
  },
  {
   "cell_type": "code",
   "execution_count": 2,
   "metadata": {},
   "outputs": [
    {
     "name": "stderr",
     "output_type": "stream",
     "text": [
      "pyam - INFO: Running in a notebook, setting up a basic logging config at level INFO\n",
      "pyam.core - INFO: Reading file Silicone\\silicone_inputs\\complete_sr15.csv\n",
      "numexpr.utils - INFO: NumExpr defaulting to 8 threads.\n"
     ]
    }
   ],
   "source": [
    "#Load SR1.5 database against which to infill\n",
    "input_complete_data = \"./Silicone/silicone_inputs/complete_sr15.csv\"\n",
    "df = download_or_load_sr15(input_complete_data)\n",
    "# We have to make the columns consistent\n",
    "\n",
    "df = pyam.IamDataFrame(df.data)"
   ]
  },
  {
   "cell_type": "markdown",
   "metadata": {},
   "source": [
    "### Load future emissions based on different ratchet interpretations\n",
    "\n",
    "**This script runs a single decomposition analysis. Each time you run it with a different input file."
   ]
  },
  {
   "cell_type": "code",
   "execution_count": 25,
   "metadata": {},
   "outputs": [],
   "source": [
    "#Different ratchet definitions (see Main Text for details)\n",
    "#input_file = \"./Silicone/silicone_inputs/ratcheted_emissions_gr.csv\"\n",
    "#input_file = \"./Silicone/silicone_inputs/ratcheted_emissions_gr_abs.csv\"\n",
    "input_file = \"./Silicone/silicone_inputs/ratcheted_emissions_abs.csv\"\n"
   ]
  },
  {
   "cell_type": "markdown",
   "metadata": {},
   "source": [
    "We have to format the CVS file to make a pyam dataframe."
   ]
  },
  {
   "cell_type": "code",
   "execution_count": 26,
   "metadata": {},
   "outputs": [],
   "source": [
    "aggregated_ghg = pd.read_csv(input_file, header=[0, 1], index_col=0)\n",
    "aggregated_ghg = aggregated_ghg.transpose().reset_index()"
   ]
  },
  {
   "cell_type": "code",
   "execution_count": 27,
   "metadata": {},
   "outputs": [],
   "source": [
    "aggregated_ghg = aggregated_ghg.rename(columns={\"level_0\": \"model\", \"level_1\": \"scenario\"})"
   ]
  },
  {
   "cell_type": "code",
   "execution_count": 28,
   "metadata": {},
   "outputs": [],
   "source": [
    "aggregate = \"Emissions|Kyoto Gases (AR5-GWP100)\"\n",
    "aggregated_ghg[\"variable\"] = aggregate\n",
    "aggregated_ghg[\"unit\"] = \"Mt CO2-equiv/yr\" # We will convert units later\n",
    "aggregated_ghg[\"region\"] = \"World\""
   ]
  },
  {
   "cell_type": "code",
   "execution_count": 29,
   "metadata": {},
   "outputs": [
    {
     "data": {
      "text/html": [
       "<div>\n",
       "<style scoped>\n",
       "    .dataframe tbody tr th:only-of-type {\n",
       "        vertical-align: middle;\n",
       "    }\n",
       "\n",
       "    .dataframe tbody tr th {\n",
       "        vertical-align: top;\n",
       "    }\n",
       "\n",
       "    .dataframe thead th {\n",
       "        text-align: right;\n",
       "    }\n",
       "</style>\n",
       "<table border=\"1\" class=\"dataframe\">\n",
       "  <thead>\n",
       "    <tr style=\"text-align: right;\">\n",
       "      <th></th>\n",
       "      <th>model</th>\n",
       "      <th>scenario</th>\n",
       "      <th>region</th>\n",
       "      <th>variable</th>\n",
       "      <th>unit</th>\n",
       "      <th>year</th>\n",
       "      <th>value</th>\n",
       "    </tr>\n",
       "  </thead>\n",
       "  <tbody>\n",
       "    <tr>\n",
       "      <th>0</th>\n",
       "      <td>paris_ratchet</td>\n",
       "      <td>2ratchet_ndc</td>\n",
       "      <td>World</td>\n",
       "      <td>Emissions|Kyoto Gases (AR5-GWP100)</td>\n",
       "      <td>Mt CO2-equiv/yr</td>\n",
       "      <td>2020.0</td>\n",
       "      <td>50639.141460</td>\n",
       "    </tr>\n",
       "    <tr>\n",
       "      <th>1</th>\n",
       "      <td>paris_ratchet</td>\n",
       "      <td>2ratchet_ndc</td>\n",
       "      <td>World</td>\n",
       "      <td>Emissions|Kyoto Gases (AR5-GWP100)</td>\n",
       "      <td>Mt CO2-equiv/yr</td>\n",
       "      <td>2021.0</td>\n",
       "      <td>52587.959046</td>\n",
       "    </tr>\n",
       "    <tr>\n",
       "      <th>2</th>\n",
       "      <td>paris_ratchet</td>\n",
       "      <td>2ratchet_ndc</td>\n",
       "      <td>World</td>\n",
       "      <td>Emissions|Kyoto Gases (AR5-GWP100)</td>\n",
       "      <td>Mt CO2-equiv/yr</td>\n",
       "      <td>2022.0</td>\n",
       "      <td>52751.295110</td>\n",
       "    </tr>\n",
       "    <tr>\n",
       "      <th>3</th>\n",
       "      <td>paris_ratchet</td>\n",
       "      <td>2ratchet_ndc</td>\n",
       "      <td>World</td>\n",
       "      <td>Emissions|Kyoto Gases (AR5-GWP100)</td>\n",
       "      <td>Mt CO2-equiv/yr</td>\n",
       "      <td>2023.0</td>\n",
       "      <td>52914.631174</td>\n",
       "    </tr>\n",
       "    <tr>\n",
       "      <th>4</th>\n",
       "      <td>paris_ratchet</td>\n",
       "      <td>2ratchet_ndc</td>\n",
       "      <td>World</td>\n",
       "      <td>Emissions|Kyoto Gases (AR5-GWP100)</td>\n",
       "      <td>Mt CO2-equiv/yr</td>\n",
       "      <td>2024.0</td>\n",
       "      <td>53077.967238</td>\n",
       "    </tr>\n",
       "  </tbody>\n",
       "</table>\n",
       "</div>"
      ],
      "text/plain": [
       "           model      scenario region                            variable  \\\n",
       "0  paris_ratchet  2ratchet_ndc  World  Emissions|Kyoto Gases (AR5-GWP100)   \n",
       "1  paris_ratchet  2ratchet_ndc  World  Emissions|Kyoto Gases (AR5-GWP100)   \n",
       "2  paris_ratchet  2ratchet_ndc  World  Emissions|Kyoto Gases (AR5-GWP100)   \n",
       "3  paris_ratchet  2ratchet_ndc  World  Emissions|Kyoto Gases (AR5-GWP100)   \n",
       "4  paris_ratchet  2ratchet_ndc  World  Emissions|Kyoto Gases (AR5-GWP100)   \n",
       "\n",
       "              unit    year         value  \n",
       "0  Mt CO2-equiv/yr  2020.0  50639.141460  \n",
       "1  Mt CO2-equiv/yr  2021.0  52587.959046  \n",
       "2  Mt CO2-equiv/yr  2022.0  52751.295110  \n",
       "3  Mt CO2-equiv/yr  2023.0  52914.631174  \n",
       "4  Mt CO2-equiv/yr  2024.0  53077.967238  "
      ]
     },
     "execution_count": 29,
     "metadata": {},
     "output_type": "execute_result"
    }
   ],
   "source": [
    "# Convert from GtCO2eq to MtCO2eq\n",
    "aggregated_ghg.iloc[:,2:-3] = aggregated_ghg.iloc[:,2:-3]*1000\n",
    "aggregated_ghg = pyam.IamDataFrame(aggregated_ghg).filter(year=range(2010, 2020), keep=False)\n",
    "aggregated_ghg.head()"
   ]
  },
  {
   "cell_type": "markdown",
   "metadata": {},
   "source": [
    "Now we can set up the variables to decompose the aggregate into its components. "
   ]
  },
  {
   "cell_type": "code",
   "execution_count": 30,
   "metadata": {},
   "outputs": [
    {
     "data": {
      "text/html": [
       "<div>\n",
       "<style scoped>\n",
       "    .dataframe tbody tr th:only-of-type {\n",
       "        vertical-align: middle;\n",
       "    }\n",
       "\n",
       "    .dataframe tbody tr th {\n",
       "        vertical-align: top;\n",
       "    }\n",
       "\n",
       "    .dataframe thead th {\n",
       "        text-align: right;\n",
       "    }\n",
       "</style>\n",
       "<table border=\"1\" class=\"dataframe\">\n",
       "  <thead>\n",
       "    <tr style=\"text-align: right;\">\n",
       "      <th></th>\n",
       "      <th>variable</th>\n",
       "      <th>unit</th>\n",
       "    </tr>\n",
       "  </thead>\n",
       "  <tbody>\n",
       "    <tr>\n",
       "      <th>0</th>\n",
       "      <td>Emissions|CH4</td>\n",
       "      <td>Mt CO2-equiv/yr</td>\n",
       "    </tr>\n",
       "    <tr>\n",
       "      <th>1</th>\n",
       "      <td>Emissions|CO2</td>\n",
       "      <td>Mt CO2/yr</td>\n",
       "    </tr>\n",
       "    <tr>\n",
       "      <th>2</th>\n",
       "      <td>Emissions|F-Gases</td>\n",
       "      <td>Mt CO2-equiv/yr</td>\n",
       "    </tr>\n",
       "    <tr>\n",
       "      <th>3</th>\n",
       "      <td>Emissions|N2O</td>\n",
       "      <td>Mt CO2-equiv/yr</td>\n",
       "    </tr>\n",
       "  </tbody>\n",
       "</table>\n",
       "</div>"
      ],
      "text/plain": [
       "            variable             unit\n",
       "0      Emissions|CH4  Mt CO2-equiv/yr\n",
       "1      Emissions|CO2        Mt CO2/yr\n",
       "2  Emissions|F-Gases  Mt CO2-equiv/yr\n",
       "3      Emissions|N2O  Mt CO2-equiv/yr"
      ]
     },
     "execution_count": 30,
     "metadata": {},
     "output_type": "execute_result"
    }
   ],
   "source": [
    "components = [\n",
    "    \"Emissions|CO2\",\n",
    "    \"Emissions|CH4\",\n",
    "    \"Emissions|N2O\",\n",
    "    \"Emissions|F-Gases\",\n",
    "]\n",
    "unit_consistent_db = convert_units_to_MtCO2_equiv(\n",
    "    df.filter(variable=components)\n",
    ")\n",
    "unit_consistent_db.variables(True)"
   ]
  },
  {
   "cell_type": "markdown",
   "metadata": {},
   "source": [
    "We interpolate to ensure that each model is represented in each year, to prevent variation in which models feature in particular years"
   ]
  },
  {
   "cell_type": "code",
   "execution_count": 31,
   "metadata": {},
   "outputs": [
    {
     "name": "stderr",
     "output_type": "stream",
     "text": [
      "<ipython-input-31-d96011fa135e>:3: DeprecationWarning: This method is deprecated and will be removed in future versions. Behavior of `interpolate` will change to `inplace=False` as default in a future release. Set the kwarg explicitly to avoid this warning. Use `inplace=True` to keep current behavior.\n",
      "  unit_consistent_db.interpolate(year)\n"
     ]
    }
   ],
   "source": [
    "for year in unit_consistent_db.filter(variable=\"Emissions|F-Gases\")[\"year\"].unique():\n",
    "    year = int(year) # Hopefully temporary bug connected to how interpolate works in pyam\n",
    "    unit_consistent_db.interpolate(year)"
   ]
  },
  {
   "cell_type": "markdown",
   "metadata": {},
   "source": [
    "## Asymmetric approach: treat the carbon separately\n",
    "The problem with using the other infillers is that they are not guaranteed to preserve the total. The `split_collection_with_remainder_emissions` function will ensure that this happens, with one of the emissions making up the difference. Typically this will be carbon, as it has the largest amount of emissions and also the results can theoretically go negative. The function can use any of the crunchers, although we will use the quantile rolling windows method. "
   ]
  },
  {
   "cell_type": "code",
   "execution_count": 32,
   "metadata": {},
   "outputs": [],
   "source": [
    "non_co2_compon = [\n",
    "    \"Emissions|CH4\",\n",
    "    \"Emissions|N2O\",\n",
    "    \"Emissions|F-Gases\",\n",
    "]\n",
    "co2 = \"Emissions|CO2\"\n",
    "split_remainder = mi.SplitCollectionWithRemainderEmissions(df)\n",
    "asym_infilled = split_remainder.infill_components(\n",
    "    aggregate, non_co2_compon, co2, aggregated_ghg.filter(year=np.arange(2020, 2101, 10)), cr.QuantileRollingWindows\n",
    ")"
   ]
  },
  {
   "cell_type": "code",
   "execution_count": 33,
   "metadata": {},
   "outputs": [
    {
     "data": {
      "text/html": [
       "<div>\n",
       "<style scoped>\n",
       "    .dataframe tbody tr th:only-of-type {\n",
       "        vertical-align: middle;\n",
       "    }\n",
       "\n",
       "    .dataframe tbody tr th {\n",
       "        vertical-align: top;\n",
       "    }\n",
       "\n",
       "    .dataframe thead th {\n",
       "        text-align: right;\n",
       "    }\n",
       "</style>\n",
       "<table border=\"1\" class=\"dataframe\">\n",
       "  <thead>\n",
       "    <tr style=\"text-align: right;\">\n",
       "      <th></th>\n",
       "      <th>model</th>\n",
       "      <th>scenario</th>\n",
       "      <th>region</th>\n",
       "      <th>variable</th>\n",
       "      <th>unit</th>\n",
       "      <th>year</th>\n",
       "      <th>value</th>\n",
       "    </tr>\n",
       "  </thead>\n",
       "  <tbody>\n",
       "    <tr>\n",
       "      <th>0</th>\n",
       "      <td>paris_ratchet</td>\n",
       "      <td>2ratchet_ndc</td>\n",
       "      <td>World</td>\n",
       "      <td>Emissions|CH4</td>\n",
       "      <td>Mt CH4/yr</td>\n",
       "      <td>2020.0</td>\n",
       "      <td>335.627945</td>\n",
       "    </tr>\n",
       "    <tr>\n",
       "      <th>1</th>\n",
       "      <td>paris_ratchet</td>\n",
       "      <td>2ratchet_ndc</td>\n",
       "      <td>World</td>\n",
       "      <td>Emissions|CH4</td>\n",
       "      <td>Mt CH4/yr</td>\n",
       "      <td>2030.0</td>\n",
       "      <td>311.941044</td>\n",
       "    </tr>\n",
       "    <tr>\n",
       "      <th>2</th>\n",
       "      <td>paris_ratchet</td>\n",
       "      <td>2ratchet_ndc</td>\n",
       "      <td>World</td>\n",
       "      <td>Emissions|CH4</td>\n",
       "      <td>Mt CH4/yr</td>\n",
       "      <td>2040.0</td>\n",
       "      <td>212.942804</td>\n",
       "    </tr>\n",
       "    <tr>\n",
       "      <th>3</th>\n",
       "      <td>paris_ratchet</td>\n",
       "      <td>2ratchet_ndc</td>\n",
       "      <td>World</td>\n",
       "      <td>Emissions|CH4</td>\n",
       "      <td>Mt CH4/yr</td>\n",
       "      <td>2050.0</td>\n",
       "      <td>189.784891</td>\n",
       "    </tr>\n",
       "    <tr>\n",
       "      <th>4</th>\n",
       "      <td>paris_ratchet</td>\n",
       "      <td>2ratchet_ndc</td>\n",
       "      <td>World</td>\n",
       "      <td>Emissions|CH4</td>\n",
       "      <td>Mt CH4/yr</td>\n",
       "      <td>2060.0</td>\n",
       "      <td>178.296505</td>\n",
       "    </tr>\n",
       "  </tbody>\n",
       "</table>\n",
       "</div>"
      ],
      "text/plain": [
       "           model      scenario region       variable       unit    year  \\\n",
       "0  paris_ratchet  2ratchet_ndc  World  Emissions|CH4  Mt CH4/yr  2020.0   \n",
       "1  paris_ratchet  2ratchet_ndc  World  Emissions|CH4  Mt CH4/yr  2030.0   \n",
       "2  paris_ratchet  2ratchet_ndc  World  Emissions|CH4  Mt CH4/yr  2040.0   \n",
       "3  paris_ratchet  2ratchet_ndc  World  Emissions|CH4  Mt CH4/yr  2050.0   \n",
       "4  paris_ratchet  2ratchet_ndc  World  Emissions|CH4  Mt CH4/yr  2060.0   \n",
       "\n",
       "        value  \n",
       "0  335.627945  \n",
       "1  311.941044  \n",
       "2  212.942804  \n",
       "3  189.784891  \n",
       "4  178.296505  "
      ]
     },
     "execution_count": 33,
     "metadata": {},
     "output_type": "execute_result"
    }
   ],
   "source": [
    "asym_infilled.head()"
   ]
  },
  {
   "cell_type": "code",
   "execution_count": 34,
   "metadata": {},
   "outputs": [],
   "source": [
    "asym_infilled.variables(True)\n",
    "\n",
    "if input_file == \"./Silicone/silicone_inputs/ratcheted_emissions_gr.csv\":\n",
    "    asym_infilled.to_csv('./Silicone/silicone_outputs/decomposed_emissions_gr.csv',iamc_index=False)\n",
    "    \n",
    "if input_file == \"./Silicone/silicone_inputs/ratcheted_emissions_gr_abs.csv\":\n",
    "    asym_infilled.to_csv('./Silicone/silicone_outputs/decomposed_emissions_gr_abs.csv',iamc_index=False)\n",
    "\n",
    "if input_file == \"./Silicone/silicone_inputs/ratcheted_emissions_abs.csv\":\n",
    "    asym_infilled.to_csv('./Silicone/silicone_outputs/decomposed_emissions_abs.csv',iamc_index=False)\n",
    "\n"
   ]
  }
 ],
 "metadata": {
  "kernelspec": {
   "display_name": "Python 3",
   "language": "python",
   "name": "python3"
  },
  "language_info": {
   "codemirror_mode": {
    "name": "ipython",
    "version": 3
   },
   "file_extension": ".py",
   "mimetype": "text/x-python",
   "name": "python",
   "nbconvert_exporter": "python",
   "pygments_lexer": "ipython3",
   "version": "3.8.3"
  }
 },
 "nbformat": 4,
 "nbformat_minor": 4
}
